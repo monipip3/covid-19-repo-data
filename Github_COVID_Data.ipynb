{
  "nbformat": 4,
  "nbformat_minor": 0,
  "metadata": {
    "kernelspec": {
      "display_name": "Python 3",
      "language": "python",
      "name": "python3"
    },
    "language_info": {
      "codemirror_mode": {
        "name": "ipython",
        "version": 3
      },
      "file_extension": ".py",
      "mimetype": "text/x-python",
      "name": "python",
      "nbconvert_exporter": "python",
      "pygments_lexer": "ipython3",
      "version": "3.6.5"
    },
    "colab": {
      "name": "Github_COVID_Data.ipynb",
      "provenance": [],
      "collapsed_sections": []
    }
  },
  "cells": [
    {
      "cell_type": "markdown",
      "metadata": {
        "id": "E2eZ333CmBpS",
        "colab_type": "text"
      },
      "source": [
        "When I first created my first repo probably 5-6 years ago, I did not know what constitutued a \"good repo\". I mean \"*what was the repo for?*\", I thought when I first started out. The first word that came to mind is **sharing**. When I first started to use it, there was no free feature of unlimited private repos so your code was public. I remember seeing a funny meme when fast forward to present day with private repos and the community saying like \"thank goodness now I can make all my bad code into private repos\".\n",
        "\n",
        "As a graduate student doing research at my University, I get so excited when I see a Github repo linked in a research paper (which is kind of rare, the scientific community needs to do that more) so I can then go explore some of their code. I am impressed when I come by a repo that is well documented, commented, reproducible, and many others have collaborated or reproduced it themselves.\n",
        "\n",
        "###The outcomes of open source has been tremendously beneficial to fortune 500 companies, research and innovation, to just impacting someone's life as they grow their career in STEM and Github has been a big part of influencing and supporting open source's milestones. \n",
        "\n",
        "The question to mind is can we measure what repos are *impactful**. And if so why and how? \n",
        "\n",
        "The caveat is since this dataset is mostly concerning COVID I would anticipate it to be around more about data / data tracking so it is a very homogenous dataset and not representative entirely of the entire Github repo population. However it would be interesting to see out of this dataset if there are any correlations between stars / contributors / watchers with the other data in this dataset. Again this is more of an exploratory analysis and a dataset that I anticipate maybe a lot of first timers working with this data since its a **hot** thing to explore right now, so can't generalize well.\n",
        "Also since we don't have access to population expected ratios/frequencies can't do a Chi-Square test.\n",
        "\n",
        "Initial questions that came to mind:\n",
        "+ Can data points like stars, watchers, public forks which measure reach be an indicator of *impactful* repos?\n",
        "+ If there is collaboration such as pull requests, issues, etc does that mean it is a repo that is easy to collaborate on? \n",
        "+ What do the repos that have engagement and collaboration have in common? Is there a relationship between documentation and collaboration / reach?\n",
        "+ What is missing from this dataset? Is this dataset representative?\n",
        "+ What methods would I use to measure relationships between variables? Ie If I were to do an aregssion analysis I would use adjusted $R^2$ or RMSE? Can I use a Z-test and seperate groups with no stars at least 1 star?\n",
        "\n",
        "*Note: I think every repo is important because it highlights the stage of growth wherever they are and it is okay to be at Level 0 if you are just forking a repo for your first time to only starring some repos and not yet working on your own project. Each action in Github is a contribution to growth whether community growth or personal growth."
      ]
    },
    {
      "cell_type": "markdown",
      "metadata": {
        "id": "Y44Piigdv_ZO",
        "colab_type": "text"
      },
      "source": [
        "## Findings\n",
        "\n",
        "\n",
        "We can't do any predictive analytics of continuous variables due to the lack of variance in the dataset (there is not a lot of variation between stars, 75% of the data that has at least 1 star or public fork have under 2 stars).\n",
        "However we can do a hypothesis test using the Z-test to see if there is a relationship between documentation and stars. Again this is not generalizing to the entire Github repo system but just repos concerning COVID:\n",
        "\n",
        "$H_o$: *There is no relationship between documentation and stars*\n",
        "\n",
        "$H_a$: *There is a relationship between documentation and stars*\n",
        "\n",
        "Note: \n",
        "The code is below but I used a 2 sided z test, the z-score is large enough to reject the null hypothesis and accept the alternative that documentation does have an effect on stars but only if there is at least a contributor guide."
      ]
    },
    {
      "cell_type": "markdown",
      "metadata": {
        "id": "naKnJMCPJyd8",
        "colab_type": "text"
      },
      "source": [
        "## Data Import\n",
        "\n",
        "This is why you read the readMe thoroughly! I started to loop through the data and append it to make one master dataframe but in the end it came out to almost 1.7M rows which I thought I would be looking at closer to 108Krows rows due to their [latest data sql](https://covid-repo-data.herokuapp.com/covid_sql?sql=select+count%28*%29+from+latest_data%3B) returned 108K repos. Since these are weekly snapshots there is some data that makes sense to keep as a snapshot of the most recent outcome ie: Forks, watchers, stars. That can change week to week but it is probably best to look at the latest current state versus something to aggregate cumulative like commits, pull requests merged, pull requests, etc."
      ]
    },
    {
      "cell_type": "code",
      "metadata": {
        "id": "sDbG9VFz3iAT",
        "colab_type": "code",
        "colab": {}
      },
      "source": [
        "# didnt work b/c herokuapp maxes out at 100 rows so will download the data / git clone\n",
        "#reading in data\n",
        "#import pandas as pd\n",
        "#import io\n",
        "#import requests\n",
        "#url=\"https://covid-repo-data.herokuapp.com/covid_sql/latest_data.csv?_size=109000\"\n",
        "#r =requests.get(url).content\n",
        "#df=pd.read_csv(io.StringIO(r.decode('utf-8')))"
      ],
      "execution_count": 3,
      "outputs": []
    },
    {
      "cell_type": "code",
      "metadata": {
        "id": "DHpC_IHq3iAd",
        "colab_type": "code",
        "colab": {}
      },
      "source": [
        "# reading in data dictionary\n",
        "import pandas as pd\n",
        "import requests\n",
        "import io\n",
        "\n",
        "url=\"https://github.com/monipip3/covid-19-repo-data/blob/master/data/data_dictionary.md\"\n",
        "r =requests.get(url).content\n",
        "data_dic =pd.read_html(io.StringIO(r.decode('utf-8')))"
      ],
      "execution_count": 4,
      "outputs": []
    },
    {
      "cell_type": "code",
      "metadata": {
        "id": "RH7XTPhm3iAg",
        "colab_type": "code",
        "colab": {
          "base_uri": "https://localhost:8080/",
          "height": 1000
        },
        "outputId": "83f9058a-9b1b-449c-daf0-1ef8d5df2a6a"
      },
      "source": [
        "data_dic_df = data_dic[0]\n",
        "\n",
        "pd.set_option('display.max_colwidth', 200)\n",
        "data_dic_df"
      ],
      "execution_count": 5,
      "outputs": [
        {
          "output_type": "execute_result",
          "data": {
            "text/html": [
              "<div>\n",
              "<style scoped>\n",
              "    .dataframe tbody tr th:only-of-type {\n",
              "        vertical-align: middle;\n",
              "    }\n",
              "\n",
              "    .dataframe tbody tr th {\n",
              "        vertical-align: top;\n",
              "    }\n",
              "\n",
              "    .dataframe thead th {\n",
              "        text-align: right;\n",
              "    }\n",
              "</style>\n",
              "<table border=\"1\" class=\"dataframe\">\n",
              "  <thead>\n",
              "    <tr style=\"text-align: right;\">\n",
              "      <th></th>\n",
              "      <th>field_name</th>\n",
              "      <th>type</th>\n",
              "      <th>description</th>\n",
              "    </tr>\n",
              "  </thead>\n",
              "  <tbody>\n",
              "    <tr>\n",
              "      <th>0</th>\n",
              "      <td>github_repo_url</td>\n",
              "      <td>string</td>\n",
              "      <td>the repo's direct link on GitHub</td>\n",
              "    </tr>\n",
              "    <tr>\n",
              "      <th>1</th>\n",
              "      <td>repo_description</td>\n",
              "      <td>string</td>\n",
              "      <td>the repo's description provided by the owner of the repo, see more here: https://help.github.com/en/github/getting-started-with-github/create-a-repo</td>\n",
              "    </tr>\n",
              "    <tr>\n",
              "      <th>2</th>\n",
              "      <td>topics</td>\n",
              "      <td>string</td>\n",
              "      <td>topics are labels that can be added to repos for classification, see more here: https://help.github.com/en/github/administering-a-repository/classifying-your-repository-with-topics</td>\n",
              "    </tr>\n",
              "    <tr>\n",
              "      <th>3</th>\n",
              "      <td>owner_repo_name</td>\n",
              "      <td>string</td>\n",
              "      <td>the owner and repo name parsed from the URL</td>\n",
              "    </tr>\n",
              "    <tr>\n",
              "      <th>4</th>\n",
              "      <td>owner_name</td>\n",
              "      <td>string</td>\n",
              "      <td>the login name of the user or org that owns the repo</td>\n",
              "    </tr>\n",
              "    <tr>\n",
              "      <th>5</th>\n",
              "      <td>owner_type</td>\n",
              "      <td>string</td>\n",
              "      <td>repos may be owned by individual or organization accounts, this filed indicates what the owner is, see more here: https://help.github.com/en/github/getting-started-with-github/types-of-github-acco...</td>\n",
              "    </tr>\n",
              "    <tr>\n",
              "      <th>6</th>\n",
              "      <td>organization_bio</td>\n",
              "      <td>string</td>\n",
              "      <td>organizations/users may choose to personalize themselves with a description/bio, if that is provided, it's included. See more: https://help.github.com/en/github/setting-up-and-managing-your-github...</td>\n",
              "    </tr>\n",
              "    <tr>\n",
              "      <th>7</th>\n",
              "      <td>repo_created_day</td>\n",
              "      <td>date</td>\n",
              "      <td>the date that the repo was created on GitHub</td>\n",
              "    </tr>\n",
              "    <tr>\n",
              "      <th>8</th>\n",
              "      <td>primary_language_name</td>\n",
              "      <td>string</td>\n",
              "      <td>the primary detected language of the files within the repo based on linguist, see more here: https://help.github.com/en/github/creating-cloning-and-archiving-repositories/about-repository-languages</td>\n",
              "    </tr>\n",
              "    <tr>\n",
              "      <th>9</th>\n",
              "      <td>license_name</td>\n",
              "      <td>string</td>\n",
              "      <td>if a user has licensed their public repository, the license's lower case SPDX ID is provided, see more here: https://choosealicense.com/</td>\n",
              "    </tr>\n",
              "    <tr>\n",
              "      <th>10</th>\n",
              "      <td>is_github_pages</td>\n",
              "      <td>boolean</td>\n",
              "      <td>this boolean indicates whether the owner of the repo has created a GitHub pages site, see more here: https://help.github.com/en/github/working-with-github-pages</td>\n",
              "    </tr>\n",
              "    <tr>\n",
              "      <th>11</th>\n",
              "      <td>has_readme</td>\n",
              "      <td>boolean</td>\n",
              "      <td>this boolean indicates if the repo has a README.md file detected in its root</td>\n",
              "    </tr>\n",
              "    <tr>\n",
              "      <th>12</th>\n",
              "      <td>has_wiki</td>\n",
              "      <td>boolean</td>\n",
              "      <td>this boolean indicates if the repo has a wiki, see more here: https://help.github.com/en/github/building-a-strong-community/about-wikis</td>\n",
              "    </tr>\n",
              "    <tr>\n",
              "      <th>13</th>\n",
              "      <td>has_merged_prs</td>\n",
              "      <td>boolean</td>\n",
              "      <td>this boolean indicates if the repo has pull requests that have been merged into one or more repo branches</td>\n",
              "    </tr>\n",
              "    <tr>\n",
              "      <th>14</th>\n",
              "      <td>has_issues</td>\n",
              "      <td>boolean</td>\n",
              "      <td>this boolean indicates if the repo has created issues</td>\n",
              "    </tr>\n",
              "    <tr>\n",
              "      <th>15</th>\n",
              "      <td>has_contributor_guide</td>\n",
              "      <td>boolean</td>\n",
              "      <td>this boolean indicates if the repo has a contributor guide, see more here: https://help.github.com/en/github/building-a-strong-community/setting-guidelines-for-repository-contributors</td>\n",
              "    </tr>\n",
              "    <tr>\n",
              "      <th>16</th>\n",
              "      <td>has_code_of_conduct</td>\n",
              "      <td>boolean</td>\n",
              "      <td>this boolean indicates if the repo has a code of conduct, see more here: https://help.github.com/en/github/building-a-strong-community/adding-a-code-of-conduct-to-your-project</td>\n",
              "    </tr>\n",
              "    <tr>\n",
              "      <th>17</th>\n",
              "      <td>count_of_public_forks</td>\n",
              "      <td>integer</td>\n",
              "      <td>this count indicates the number of times the repo has been forked, see more here: https://help.github.com/en/github/getting-started-with-github/fork-a-repo</td>\n",
              "    </tr>\n",
              "    <tr>\n",
              "      <th>18</th>\n",
              "      <td>count_of_stars</td>\n",
              "      <td>integer</td>\n",
              "      <td>this count indicates the number of times the repo has been starred by other users, see more here: https://help.github.com/en/github/getting-started-with-github/saving-repositories-with-stars</td>\n",
              "    </tr>\n",
              "    <tr>\n",
              "      <th>19</th>\n",
              "      <td>count_of_watchers</td>\n",
              "      <td>integer</td>\n",
              "      <td>this count indicates the number of times the repo has been watched by other users that wish to receive notifications about it, see more here: https://help.github.com/en/github/receiving-notificati...</td>\n",
              "    </tr>\n",
              "    <tr>\n",
              "      <th>20</th>\n",
              "      <td>count_distinct_contributors</td>\n",
              "      <td>integer</td>\n",
              "      <td>this count includes the number of unique users that have contributed to the repo in some way (by committing, opening an issue, opening a pull request, reviewing a pull request or making a comment ...</td>\n",
              "    </tr>\n",
              "    <tr>\n",
              "      <th>21</th>\n",
              "      <td>count_contributions</td>\n",
              "      <td>integer</td>\n",
              "      <td>this count is the sum total of the following counts (commits, commit_comments, created_issues, pull_requests_created, pull_requests_reviewed and comments_on_issues_and_pull_requests)</td>\n",
              "    </tr>\n",
              "    <tr>\n",
              "      <th>22</th>\n",
              "      <td>count_commits</td>\n",
              "      <td>integer</td>\n",
              "      <td>this count is the sum total of all commits made across all branches on the repo, see more here: https://help.github.com/en/github/committing-changes-to-your-project</td>\n",
              "    </tr>\n",
              "    <tr>\n",
              "      <th>23</th>\n",
              "      <td>count_commit_comments</td>\n",
              "      <td>integer</td>\n",
              "      <td>this count is the number of comments made on commits to the repo, see more here: https://developer.github.com/v3/guides/working-with-comments/</td>\n",
              "    </tr>\n",
              "    <tr>\n",
              "      <th>24</th>\n",
              "      <td>count_created_issues</td>\n",
              "      <td>integer</td>\n",
              "      <td>this count is the number issues created on the repository, see more here: https://help.github.com/en/github/managing-your-work-on-github/creating-an-issue</td>\n",
              "    </tr>\n",
              "    <tr>\n",
              "      <th>25</th>\n",
              "      <td>count_pull_requests_created</td>\n",
              "      <td>integer</td>\n",
              "      <td>this count is the number of pull requests made against the repo, see more here: https://help.github.com/en/github/collaborating-with-issues-and-pull-requests/about-pull-requests</td>\n",
              "    </tr>\n",
              "    <tr>\n",
              "      <th>26</th>\n",
              "      <td>count_pull_requests_reviews</td>\n",
              "      <td>integer</td>\n",
              "      <td>this count is the number of pull requests made against the repo, see more here: https://help.github.com/en/github/collaborating-with-issues-and-pull-requests/about-pull-request-reviews</td>\n",
              "    </tr>\n",
              "    <tr>\n",
              "      <th>27</th>\n",
              "      <td>count_comments_on_issues_and_pull_requests</td>\n",
              "      <td>integer</td>\n",
              "      <td>this count is the sum total number of all issue and pull request related comments made, for pull requests, see more here: https://help.github.com/en/github/collaborating-with-issues-and-pull-reque...</td>\n",
              "    </tr>\n",
              "  </tbody>\n",
              "</table>\n",
              "</div>"
            ],
            "text/plain": [
              "                                    field_name  ...                                                                                                                                                                                              description\n",
              "0                              github_repo_url  ...                                                                                                                                                                         the repo's direct link on GitHub\n",
              "1                             repo_description  ...                                                     the repo's description provided by the owner of the repo, see more here: https://help.github.com/en/github/getting-started-with-github/create-a-repo\n",
              "2                                       topics  ...                     topics are labels that can be added to repos for classification, see more here: https://help.github.com/en/github/administering-a-repository/classifying-your-repository-with-topics\n",
              "3                              owner_repo_name  ...                                                                                                                                                              the owner and repo name parsed from the URL\n",
              "4                                   owner_name  ...                                                                                                                                                     the login name of the user or org that owns the repo\n",
              "5                                   owner_type  ...  repos may be owned by individual or organization accounts, this filed indicates what the owner is, see more here: https://help.github.com/en/github/getting-started-with-github/types-of-github-acco...\n",
              "6                             organization_bio  ...  organizations/users may choose to personalize themselves with a description/bio, if that is provided, it's included. See more: https://help.github.com/en/github/setting-up-and-managing-your-github...\n",
              "7                             repo_created_day  ...                                                                                                                                                             the date that the repo was created on GitHub\n",
              "8                        primary_language_name  ...    the primary detected language of the files within the repo based on linguist, see more here: https://help.github.com/en/github/creating-cloning-and-archiving-repositories/about-repository-languages\n",
              "9                                 license_name  ...                                                                 if a user has licensed their public repository, the license's lower case SPDX ID is provided, see more here: https://choosealicense.com/\n",
              "10                             is_github_pages  ...                                         this boolean indicates whether the owner of the repo has created a GitHub pages site, see more here: https://help.github.com/en/github/working-with-github-pages\n",
              "11                                  has_readme  ...                                                                                                                             this boolean indicates if the repo has a README.md file detected in its root\n",
              "12                                    has_wiki  ...                                                                  this boolean indicates if the repo has a wiki, see more here: https://help.github.com/en/github/building-a-strong-community/about-wikis\n",
              "13                              has_merged_prs  ...                                                                                                this boolean indicates if the repo has pull requests that have been merged into one or more repo branches\n",
              "14                                  has_issues  ...                                                                                                                                                    this boolean indicates if the repo has created issues\n",
              "15                       has_contributor_guide  ...                  this boolean indicates if the repo has a contributor guide, see more here: https://help.github.com/en/github/building-a-strong-community/setting-guidelines-for-repository-contributors\n",
              "16                         has_code_of_conduct  ...                          this boolean indicates if the repo has a code of conduct, see more here: https://help.github.com/en/github/building-a-strong-community/adding-a-code-of-conduct-to-your-project\n",
              "17                       count_of_public_forks  ...                                              this count indicates the number of times the repo has been forked, see more here: https://help.github.com/en/github/getting-started-with-github/fork-a-repo\n",
              "18                              count_of_stars  ...           this count indicates the number of times the repo has been starred by other users, see more here: https://help.github.com/en/github/getting-started-with-github/saving-repositories-with-stars\n",
              "19                           count_of_watchers  ...  this count indicates the number of times the repo has been watched by other users that wish to receive notifications about it, see more here: https://help.github.com/en/github/receiving-notificati...\n",
              "20                 count_distinct_contributors  ...  this count includes the number of unique users that have contributed to the repo in some way (by committing, opening an issue, opening a pull request, reviewing a pull request or making a comment ...\n",
              "21                         count_contributions  ...                   this count is the sum total of the following counts (commits, commit_comments, created_issues, pull_requests_created, pull_requests_reviewed and comments_on_issues_and_pull_requests)\n",
              "22                               count_commits  ...                                     this count is the sum total of all commits made across all branches on the repo, see more here: https://help.github.com/en/github/committing-changes-to-your-project\n",
              "23                       count_commit_comments  ...                                                           this count is the number of comments made on commits to the repo, see more here: https://developer.github.com/v3/guides/working-with-comments/\n",
              "24                        count_created_issues  ...                                               this count is the number issues created on the repository, see more here: https://help.github.com/en/github/managing-your-work-on-github/creating-an-issue\n",
              "25                 count_pull_requests_created  ...                        this count is the number of pull requests made against the repo, see more here: https://help.github.com/en/github/collaborating-with-issues-and-pull-requests/about-pull-requests\n",
              "26                 count_pull_requests_reviews  ...                 this count is the number of pull requests made against the repo, see more here: https://help.github.com/en/github/collaborating-with-issues-and-pull-requests/about-pull-request-reviews\n",
              "27  count_comments_on_issues_and_pull_requests  ...  this count is the sum total number of all issue and pull request related comments made, for pull requests, see more here: https://help.github.com/en/github/collaborating-with-issues-and-pull-reque...\n",
              "\n",
              "[28 rows x 3 columns]"
            ]
          },
          "metadata": {
            "tags": []
          },
          "execution_count": 5
        }
      ]
    },
    {
      "cell_type": "code",
      "metadata": {
        "id": "XLhNml-_4ubD",
        "colab_type": "code",
        "colab": {
          "base_uri": "https://localhost:8080/",
          "height": 34
        },
        "outputId": "927e1eeb-6912-42bd-b757-5df0daee5791"
      },
      "source": [
        "from google.colab import drive\n",
        "drive.mount('/content/drive/')"
      ],
      "execution_count": 6,
      "outputs": [
        {
          "output_type": "stream",
          "text": [
            "Mounted at /content/drive/\n"
          ],
          "name": "stdout"
        }
      ]
    },
    {
      "cell_type": "code",
      "metadata": {
        "id": "7QUZyIeY5dB0",
        "colab_type": "code",
        "colab": {
          "base_uri": "https://localhost:8080/",
          "height": 34
        },
        "outputId": "7fe03299-c868-47c7-aafb-ec398150ed0c"
      },
      "source": [
        "%cd /content/drive/My\\ Drive/Github/"
      ],
      "execution_count": 7,
      "outputs": [
        {
          "output_type": "stream",
          "text": [
            "/content/drive/My Drive/Github\n"
          ],
          "name": "stdout"
        }
      ]
    },
    {
      "cell_type": "code",
      "metadata": {
        "id": "a5WzhIVg5g3K",
        "colab_type": "code",
        "colab": {}
      },
      "source": [
        "#!git clone https://github.com/monipip3/covid-19-repo-data.git"
      ],
      "execution_count": 8,
      "outputs": []
    },
    {
      "cell_type": "code",
      "metadata": {
        "id": "74_zbORr6zHB",
        "colab_type": "code",
        "colab": {}
      },
      "source": [
        "import os\n",
        "os.chdir('/content/drive/My Drive/Github/covid-19-repo-data/data/tsv')"
      ],
      "execution_count": 9,
      "outputs": []
    },
    {
      "cell_type": "code",
      "metadata": {
        "id": "W-U8ZDEn7SNS",
        "colab_type": "code",
        "colab": {
          "base_uri": "https://localhost:8080/",
          "height": 136
        },
        "outputId": "3bba6f51-f51d-45eb-d910-d9ce3817e082"
      },
      "source": [
        "!ls"
      ],
      "execution_count": 10,
      "outputs": [
        {
          "output_type": "stream",
          "text": [
            "2020-01-20.tsv\t2020-03-09.tsv\t2020-04-27.tsv\t2020-06-15.tsv\t2020-08-03.tsv\n",
            "2020-01-27.tsv\t2020-03-16.tsv\t2020-05-04.tsv\t2020-06-22.tsv\t2020-08-10.tsv\n",
            "2020-02-03.tsv\t2020-03-23.tsv\t2020-05-11.tsv\t2020-06-29.tsv\t2020-08-17.tsv\n",
            "2020-02-10.tsv\t2020-03-30.tsv\t2020-05-18.tsv\t2020-07-06.tsv\t2020-08-24.tsv\n",
            "2020-02-17.tsv\t2020-04-06.tsv\t2020-05-25.tsv\t2020-07-13.tsv\t2020-08-31.tsv\n",
            "2020-02-24.tsv\t2020-04-13.tsv\t2020-06-01.tsv\t2020-07-20.tsv\n",
            "2020-03-02.tsv\t2020-04-20.tsv\t2020-06-08.tsv\t2020-07-27.tsv\n"
          ],
          "name": "stdout"
        }
      ]
    },
    {
      "cell_type": "code",
      "metadata": {
        "id": "1RRknWXZ-yeU",
        "colab_type": "code",
        "colab": {}
      },
      "source": [
        "#creating one master file\n",
        "import pandas as pd\n",
        "\n",
        "dfs = []\n",
        "\n",
        "for i in os.listdir():\n",
        "  df = pd.read_csv(i,sep=\"\\t\")\n",
        "  dfs.append(df)\n",
        "\n",
        "df = pd.concat(dfs)"
      ],
      "execution_count": 11,
      "outputs": []
    },
    {
      "cell_type": "code",
      "metadata": {
        "id": "Xmzf79i8AaVD",
        "colab_type": "code",
        "colab": {
          "base_uri": "https://localhost:8080/",
          "height": 34
        },
        "outputId": "2984ff4e-9306-4269-ddae-981d130bedfb"
      },
      "source": [
        "df.shape"
      ],
      "execution_count": 12,
      "outputs": [
        {
          "output_type": "execute_result",
          "data": {
            "text/plain": [
              "(1617916, 29)"
            ]
          },
          "metadata": {
            "tags": []
          },
          "execution_count": 12
        }
      ]
    },
    {
      "cell_type": "markdown",
      "metadata": {
        "id": "Z3lgzyRGJ5do",
        "colab_type": "text"
      },
      "source": [
        "## Data Transformation\n",
        "\n",
        "Created avg weekly metrics of metrics that made sense ie pull requests, commits and created a most recent snapshot of the latest metrics such as forks, starrs, etc and joined them together."
      ]
    },
    {
      "cell_type": "code",
      "metadata": {
        "id": "4QXKlXyyCWHM",
        "colab_type": "code",
        "colab": {
          "base_uri": "https://localhost:8080/",
          "height": 470
        },
        "outputId": "00622921-3666-4a71-f6af-a030cb9262f1"
      },
      "source": [
        "# I always like to pick a 1 or a couple other observations and analyze to make sure I am understanding time series data\n",
        "df[df.github_repo_url == 'https://github.com/zzzain46/NBU-nCov-killer']"
      ],
      "execution_count": 13,
      "outputs": [
        {
          "output_type": "execute_result",
          "data": {
            "text/html": [
              "<div>\n",
              "<style scoped>\n",
              "    .dataframe tbody tr th:only-of-type {\n",
              "        vertical-align: middle;\n",
              "    }\n",
              "\n",
              "    .dataframe tbody tr th {\n",
              "        vertical-align: top;\n",
              "    }\n",
              "\n",
              "    .dataframe thead th {\n",
              "        text-align: right;\n",
              "    }\n",
              "</style>\n",
              "<table border=\"1\" class=\"dataframe\">\n",
              "  <thead>\n",
              "    <tr style=\"text-align: right;\">\n",
              "      <th></th>\n",
              "      <th>github_repo_url</th>\n",
              "      <th>repo_description</th>\n",
              "      <th>topics</th>\n",
              "      <th>owner_repo_name</th>\n",
              "      <th>owner_name</th>\n",
              "      <th>owner_type</th>\n",
              "      <th>organization_bio</th>\n",
              "      <th>repo_created_day</th>\n",
              "      <th>primary_language_name</th>\n",
              "      <th>license_name</th>\n",
              "      <th>is_github_pages</th>\n",
              "      <th>has_readme</th>\n",
              "      <th>has_wiki</th>\n",
              "      <th>has_merged_prs</th>\n",
              "      <th>has_issues</th>\n",
              "      <th>has_contributor_guide</th>\n",
              "      <th>has_code_of_conduct</th>\n",
              "      <th>count_of_public_forks</th>\n",
              "      <th>count_of_stars</th>\n",
              "      <th>count_of_watchers</th>\n",
              "      <th>count_distinct_contributors</th>\n",
              "      <th>count_contributions</th>\n",
              "      <th>count_commits</th>\n",
              "      <th>count_commit_comments</th>\n",
              "      <th>count_created_issues</th>\n",
              "      <th>count_pull_requests_created</th>\n",
              "      <th>count_pull_requests_reviews</th>\n",
              "      <th>count_comments_on_issues_and_pull_requests</th>\n",
              "      <th>version https://git-lfs.github.com/spec/v1</th>\n",
              "    </tr>\n",
              "  </thead>\n",
              "  <tbody>\n",
              "    <tr>\n",
              "      <th>1224</th>\n",
              "      <td>https://github.com/zzzain46/NBU-nCov-killer</td>\n",
              "      <td>宁大ncov肺炎每日自动健康打卡脚本</td>\n",
              "      <td>NaN</td>\n",
              "      <td>zzzain46/NBU-nCov-killer</td>\n",
              "      <td>zzzain46</td>\n",
              "      <td>User</td>\n",
              "      <td>NaN</td>\n",
              "      <td>2020-02-15</td>\n",
              "      <td>Python</td>\n",
              "      <td>NaN</td>\n",
              "      <td>False</td>\n",
              "      <td>True</td>\n",
              "      <td>True</td>\n",
              "      <td>False</td>\n",
              "      <td>True</td>\n",
              "      <td>False</td>\n",
              "      <td>False</td>\n",
              "      <td>0.0</td>\n",
              "      <td>0.0</td>\n",
              "      <td>0.0</td>\n",
              "      <td>1.0</td>\n",
              "      <td>6.0</td>\n",
              "      <td>6.0</td>\n",
              "      <td>0.0</td>\n",
              "      <td>0.0</td>\n",
              "      <td>0.0</td>\n",
              "      <td>0.0</td>\n",
              "      <td>0.0</td>\n",
              "      <td>NaN</td>\n",
              "    </tr>\n",
              "    <tr>\n",
              "      <th>800</th>\n",
              "      <td>https://github.com/zzzain46/NBU-nCov-killer</td>\n",
              "      <td>宁大ncov每日自动健康打卡</td>\n",
              "      <td>NaN</td>\n",
              "      <td>zzzain46/NBU-nCov-killer</td>\n",
              "      <td>zzzain46</td>\n",
              "      <td>User</td>\n",
              "      <td>NaN</td>\n",
              "      <td>2020-02-20</td>\n",
              "      <td>Python</td>\n",
              "      <td>NaN</td>\n",
              "      <td>False</td>\n",
              "      <td>True</td>\n",
              "      <td>True</td>\n",
              "      <td>False</td>\n",
              "      <td>True</td>\n",
              "      <td>False</td>\n",
              "      <td>False</td>\n",
              "      <td>0.0</td>\n",
              "      <td>0.0</td>\n",
              "      <td>0.0</td>\n",
              "      <td>1.0</td>\n",
              "      <td>1.0</td>\n",
              "      <td>1.0</td>\n",
              "      <td>0.0</td>\n",
              "      <td>0.0</td>\n",
              "      <td>0.0</td>\n",
              "      <td>0.0</td>\n",
              "      <td>0.0</td>\n",
              "      <td>NaN</td>\n",
              "    </tr>\n",
              "    <tr>\n",
              "      <th>246</th>\n",
              "      <td>https://github.com/zzzain46/NBU-nCov-killer</td>\n",
              "      <td>宁大ncov每日自动健康打卡</td>\n",
              "      <td>NaN</td>\n",
              "      <td>zzzain46/NBU-nCov-killer</td>\n",
              "      <td>zzzain46</td>\n",
              "      <td>User</td>\n",
              "      <td>NaN</td>\n",
              "      <td>2020-02-20</td>\n",
              "      <td>Python</td>\n",
              "      <td>NaN</td>\n",
              "      <td>False</td>\n",
              "      <td>True</td>\n",
              "      <td>True</td>\n",
              "      <td>False</td>\n",
              "      <td>True</td>\n",
              "      <td>False</td>\n",
              "      <td>False</td>\n",
              "      <td>0.0</td>\n",
              "      <td>2.0</td>\n",
              "      <td>2.0</td>\n",
              "      <td>2.0</td>\n",
              "      <td>3.0</td>\n",
              "      <td>2.0</td>\n",
              "      <td>0.0</td>\n",
              "      <td>1.0</td>\n",
              "      <td>0.0</td>\n",
              "      <td>0.0</td>\n",
              "      <td>0.0</td>\n",
              "      <td>NaN</td>\n",
              "    </tr>\n",
              "    <tr>\n",
              "      <th>463</th>\n",
              "      <td>https://github.com/zzzain46/NBU-nCov-killer</td>\n",
              "      <td>宁大ncov每日自动健康打卡</td>\n",
              "      <td>NaN</td>\n",
              "      <td>zzzain46/NBU-nCov-killer</td>\n",
              "      <td>zzzain46</td>\n",
              "      <td>User</td>\n",
              "      <td>NaN</td>\n",
              "      <td>2020-02-20</td>\n",
              "      <td>Python</td>\n",
              "      <td>NaN</td>\n",
              "      <td>False</td>\n",
              "      <td>True</td>\n",
              "      <td>True</td>\n",
              "      <td>False</td>\n",
              "      <td>True</td>\n",
              "      <td>False</td>\n",
              "      <td>False</td>\n",
              "      <td>0.0</td>\n",
              "      <td>2.0</td>\n",
              "      <td>2.0</td>\n",
              "      <td>2.0</td>\n",
              "      <td>3.0</td>\n",
              "      <td>2.0</td>\n",
              "      <td>0.0</td>\n",
              "      <td>1.0</td>\n",
              "      <td>0.0</td>\n",
              "      <td>0.0</td>\n",
              "      <td>0.0</td>\n",
              "      <td>NaN</td>\n",
              "    </tr>\n",
              "    <tr>\n",
              "      <th>549</th>\n",
              "      <td>https://github.com/zzzain46/NBU-nCov-killer</td>\n",
              "      <td>宁大ncov每日自动健康打卡</td>\n",
              "      <td>NaN</td>\n",
              "      <td>zzzain46/NBU-nCov-killer</td>\n",
              "      <td>zzzain46</td>\n",
              "      <td>User</td>\n",
              "      <td>NaN</td>\n",
              "      <td>2020-02-20</td>\n",
              "      <td>Python</td>\n",
              "      <td>NaN</td>\n",
              "      <td>False</td>\n",
              "      <td>True</td>\n",
              "      <td>True</td>\n",
              "      <td>False</td>\n",
              "      <td>True</td>\n",
              "      <td>False</td>\n",
              "      <td>False</td>\n",
              "      <td>1.0</td>\n",
              "      <td>2.0</td>\n",
              "      <td>2.0</td>\n",
              "      <td>3.0</td>\n",
              "      <td>4.0</td>\n",
              "      <td>2.0</td>\n",
              "      <td>0.0</td>\n",
              "      <td>2.0</td>\n",
              "      <td>0.0</td>\n",
              "      <td>0.0</td>\n",
              "      <td>0.0</td>\n",
              "      <td>NaN</td>\n",
              "    </tr>\n",
              "    <tr>\n",
              "      <th>1160</th>\n",
              "      <td>https://github.com/zzzain46/NBU-nCov-killer</td>\n",
              "      <td>宁大ncov每日自动健康打卡</td>\n",
              "      <td>NaN</td>\n",
              "      <td>zzzain46/NBU-nCov-killer</td>\n",
              "      <td>zzzain46</td>\n",
              "      <td>User</td>\n",
              "      <td>NaN</td>\n",
              "      <td>2020-02-20</td>\n",
              "      <td>Python</td>\n",
              "      <td>NaN</td>\n",
              "      <td>False</td>\n",
              "      <td>True</td>\n",
              "      <td>True</td>\n",
              "      <td>False</td>\n",
              "      <td>True</td>\n",
              "      <td>False</td>\n",
              "      <td>False</td>\n",
              "      <td>0.0</td>\n",
              "      <td>2.0</td>\n",
              "      <td>2.0</td>\n",
              "      <td>3.0</td>\n",
              "      <td>5.0</td>\n",
              "      <td>3.0</td>\n",
              "      <td>0.0</td>\n",
              "      <td>2.0</td>\n",
              "      <td>0.0</td>\n",
              "      <td>0.0</td>\n",
              "      <td>0.0</td>\n",
              "      <td>NaN</td>\n",
              "    </tr>\n",
              "    <tr>\n",
              "      <th>1650</th>\n",
              "      <td>https://github.com/zzzain46/NBU-nCov-killer</td>\n",
              "      <td>宁大ncov每日自动健康打卡</td>\n",
              "      <td>NaN</td>\n",
              "      <td>zzzain46/NBU-nCov-killer</td>\n",
              "      <td>zzzain46</td>\n",
              "      <td>User</td>\n",
              "      <td>NaN</td>\n",
              "      <td>2020-02-20</td>\n",
              "      <td>Python</td>\n",
              "      <td>NaN</td>\n",
              "      <td>False</td>\n",
              "      <td>True</td>\n",
              "      <td>True</td>\n",
              "      <td>False</td>\n",
              "      <td>True</td>\n",
              "      <td>False</td>\n",
              "      <td>False</td>\n",
              "      <td>0.0</td>\n",
              "      <td>2.0</td>\n",
              "      <td>2.0</td>\n",
              "      <td>3.0</td>\n",
              "      <td>5.0</td>\n",
              "      <td>3.0</td>\n",
              "      <td>0.0</td>\n",
              "      <td>2.0</td>\n",
              "      <td>0.0</td>\n",
              "      <td>0.0</td>\n",
              "      <td>0.0</td>\n",
              "      <td>NaN</td>\n",
              "    </tr>\n",
              "    <tr>\n",
              "      <th>1932</th>\n",
              "      <td>https://github.com/zzzain46/NBU-nCov-killer</td>\n",
              "      <td>宁大ncov每日自动健康打卡</td>\n",
              "      <td>NaN</td>\n",
              "      <td>zzzain46/NBU-nCov-killer</td>\n",
              "      <td>zzzain46</td>\n",
              "      <td>User</td>\n",
              "      <td>NaN</td>\n",
              "      <td>2020-02-20</td>\n",
              "      <td>Python</td>\n",
              "      <td>NaN</td>\n",
              "      <td>False</td>\n",
              "      <td>True</td>\n",
              "      <td>True</td>\n",
              "      <td>False</td>\n",
              "      <td>True</td>\n",
              "      <td>False</td>\n",
              "      <td>False</td>\n",
              "      <td>0.0</td>\n",
              "      <td>2.0</td>\n",
              "      <td>2.0</td>\n",
              "      <td>3.0</td>\n",
              "      <td>5.0</td>\n",
              "      <td>3.0</td>\n",
              "      <td>0.0</td>\n",
              "      <td>2.0</td>\n",
              "      <td>0.0</td>\n",
              "      <td>0.0</td>\n",
              "      <td>0.0</td>\n",
              "      <td>NaN</td>\n",
              "    </tr>\n",
              "  </tbody>\n",
              "</table>\n",
              "</div>"
            ],
            "text/plain": [
              "                                  github_repo_url  ... version https://git-lfs.github.com/spec/v1\n",
              "1224  https://github.com/zzzain46/NBU-nCov-killer  ...                                        NaN\n",
              "800   https://github.com/zzzain46/NBU-nCov-killer  ...                                        NaN\n",
              "246   https://github.com/zzzain46/NBU-nCov-killer  ...                                        NaN\n",
              "463   https://github.com/zzzain46/NBU-nCov-killer  ...                                        NaN\n",
              "549   https://github.com/zzzain46/NBU-nCov-killer  ...                                        NaN\n",
              "1160  https://github.com/zzzain46/NBU-nCov-killer  ...                                        NaN\n",
              "1650  https://github.com/zzzain46/NBU-nCov-killer  ...                                        NaN\n",
              "1932  https://github.com/zzzain46/NBU-nCov-killer  ...                                        NaN\n",
              "\n",
              "[8 rows x 29 columns]"
            ]
          },
          "metadata": {
            "tags": []
          },
          "execution_count": 13
        }
      ]
    },
    {
      "cell_type": "markdown",
      "metadata": {
        "id": "6uFdo3PU2Qyb",
        "colab_type": "text"
      },
      "source": [
        "Looks like we can't aggegrate using the sum on these columns easily due to not having a column like last modified date. \n",
        "In this example if we sum up all the weekly commits it returns 22 but when looking at their repo theres only ten commits. Their SQL dataset did figure out how to do this [here](https://covid-repo-data.herokuapp.com/covid_sql?sql=select+*+from+latest_data+where+github_repo_url+%3D+%27https%3A%2F%2Fgithub.com%2FPwnerZhang%2FNBU-nCov-killer%27+order+by+rowid+limit+101) which currently [their repo](https://github.com/PwnerZhang/NBU-nCov-killer/commits?author=PwnerZhang) does show only ten commits.\n",
        "\n",
        "I think I should just look at the mean for commits and pull requests and merges to normalize and beause if I approach it this way:\n",
        "1. group by repo and use the row index and sort by it ascending = True\n",
        "2. Use the pandas first method on all the columns to dedupe data based on standstill / same snapshots; however, there is the off chance some repos had similar activity weeks, ie 2 contributions per week it will get dropped.\n"
      ]
    },
    {
      "cell_type": "code",
      "metadata": {
        "id": "ujsIfJ6v1dGM",
        "colab_type": "code",
        "colab": {
          "base_uri": "https://localhost:8080/",
          "height": 34
        },
        "outputId": "dfda6f39-4942-4c0f-92eb-431369e379a3"
      },
      "source": [
        "#looks like we can't aggegrate time series due to not having a column like last modified date. \n",
        "# In this example if we sum up all the weekly commits it returns 22 but when looking at their repo theres only ten commits \n",
        "\n",
        "df[df.github_repo_url == 'https://github.com/zzzain46/NBU-nCov-killer']['count_commits'].sum()"
      ],
      "execution_count": 14,
      "outputs": [
        {
          "output_type": "execute_result",
          "data": {
            "text/plain": [
              "22.0"
            ]
          },
          "metadata": {
            "tags": []
          },
          "execution_count": 14
        }
      ]
    },
    {
      "cell_type": "code",
      "metadata": {
        "id": "p6WmxkYWTf-Y",
        "colab_type": "code",
        "colab": {}
      },
      "source": [
        "# There is duplicate data due to weekly snapshots so I will have to aggregate and then reduce down\n",
        "\n",
        "#select the columns that are fine to select based off last date ; the most recent snapshot\n",
        "\n",
        "most_recent = df.sort_index(ascending=False)[['github_repo_url', 'repo_description', 'topics', 'owner_repo_name',\n",
        "       'owner_name', 'owner_type', 'organization_bio', 'repo_created_day',\n",
        "       'primary_language_name', 'license_name', 'is_github_pages',\n",
        "       'has_readme', 'has_wiki', 'has_merged_prs', 'has_issues',\n",
        "       'has_contributor_guide', 'has_code_of_conduct','count_of_public_forks',\n",
        "       'count_of_stars', 'count_of_watchers', 'count_distinct_contributors']].drop_duplicates('github_repo_url',keep='first')"
      ],
      "execution_count": 15,
      "outputs": []
    },
    {
      "cell_type": "code",
      "metadata": {
        "id": "EuH3KvwxkT13",
        "colab_type": "code",
        "colab": {
          "base_uri": "https://localhost:8080/",
          "height": 117
        },
        "outputId": "3e50e372-9a1d-46af-f1c2-6cd59ca168ca"
      },
      "source": [
        "most_recent[most_recent.github_repo_url == 'https://github.com/zzzain46/NBU-nCov-killer' ]"
      ],
      "execution_count": 16,
      "outputs": [
        {
          "output_type": "execute_result",
          "data": {
            "text/html": [
              "<div>\n",
              "<style scoped>\n",
              "    .dataframe tbody tr th:only-of-type {\n",
              "        vertical-align: middle;\n",
              "    }\n",
              "\n",
              "    .dataframe tbody tr th {\n",
              "        vertical-align: top;\n",
              "    }\n",
              "\n",
              "    .dataframe thead th {\n",
              "        text-align: right;\n",
              "    }\n",
              "</style>\n",
              "<table border=\"1\" class=\"dataframe\">\n",
              "  <thead>\n",
              "    <tr style=\"text-align: right;\">\n",
              "      <th></th>\n",
              "      <th>github_repo_url</th>\n",
              "      <th>repo_description</th>\n",
              "      <th>topics</th>\n",
              "      <th>owner_repo_name</th>\n",
              "      <th>owner_name</th>\n",
              "      <th>owner_type</th>\n",
              "      <th>organization_bio</th>\n",
              "      <th>repo_created_day</th>\n",
              "      <th>primary_language_name</th>\n",
              "      <th>license_name</th>\n",
              "      <th>is_github_pages</th>\n",
              "      <th>has_readme</th>\n",
              "      <th>has_wiki</th>\n",
              "      <th>has_merged_prs</th>\n",
              "      <th>has_issues</th>\n",
              "      <th>has_contributor_guide</th>\n",
              "      <th>has_code_of_conduct</th>\n",
              "      <th>count_of_public_forks</th>\n",
              "      <th>count_of_stars</th>\n",
              "      <th>count_of_watchers</th>\n",
              "      <th>count_distinct_contributors</th>\n",
              "    </tr>\n",
              "  </thead>\n",
              "  <tbody>\n",
              "    <tr>\n",
              "      <th>1932</th>\n",
              "      <td>https://github.com/zzzain46/NBU-nCov-killer</td>\n",
              "      <td>宁大ncov每日自动健康打卡</td>\n",
              "      <td>NaN</td>\n",
              "      <td>zzzain46/NBU-nCov-killer</td>\n",
              "      <td>zzzain46</td>\n",
              "      <td>User</td>\n",
              "      <td>NaN</td>\n",
              "      <td>2020-02-20</td>\n",
              "      <td>Python</td>\n",
              "      <td>NaN</td>\n",
              "      <td>False</td>\n",
              "      <td>True</td>\n",
              "      <td>True</td>\n",
              "      <td>False</td>\n",
              "      <td>True</td>\n",
              "      <td>False</td>\n",
              "      <td>False</td>\n",
              "      <td>0.0</td>\n",
              "      <td>2.0</td>\n",
              "      <td>2.0</td>\n",
              "      <td>3.0</td>\n",
              "    </tr>\n",
              "  </tbody>\n",
              "</table>\n",
              "</div>"
            ],
            "text/plain": [
              "                                  github_repo_url  ... count_distinct_contributors\n",
              "1932  https://github.com/zzzain46/NBU-nCov-killer  ...                         3.0\n",
              "\n",
              "[1 rows x 21 columns]"
            ]
          },
          "metadata": {
            "tags": []
          },
          "execution_count": 16
        }
      ]
    },
    {
      "cell_type": "code",
      "metadata": {
        "id": "UW8DCWRo4v2x",
        "colab_type": "code",
        "colab": {}
      },
      "source": [
        "# avg weekly commits, pull requests , etc\n",
        "average_week = df[['github_repo_url',\n",
        "       'count_contributions', 'count_commits', 'count_commit_comments',\n",
        "       'count_created_issues', 'count_pull_requests_created',\n",
        "       'count_pull_requests_reviews',\n",
        "       'count_comments_on_issues_and_pull_requests']].groupby(['github_repo_url']).agg('mean').reset_index()"
      ],
      "execution_count": 17,
      "outputs": []
    },
    {
      "cell_type": "code",
      "metadata": {
        "id": "2jqQogkL8FTu",
        "colab_type": "code",
        "colab": {
          "base_uri": "https://localhost:8080/",
          "height": 117
        },
        "outputId": "bb436889-b95a-4d13-bbde-ec68bb092d42"
      },
      "source": [
        "average_week[average_week.github_repo_url == 'https://github.com/zzzain46/NBU-nCov-killer' ]"
      ],
      "execution_count": 18,
      "outputs": [
        {
          "output_type": "execute_result",
          "data": {
            "text/html": [
              "<div>\n",
              "<style scoped>\n",
              "    .dataframe tbody tr th:only-of-type {\n",
              "        vertical-align: middle;\n",
              "    }\n",
              "\n",
              "    .dataframe tbody tr th {\n",
              "        vertical-align: top;\n",
              "    }\n",
              "\n",
              "    .dataframe thead th {\n",
              "        text-align: right;\n",
              "    }\n",
              "</style>\n",
              "<table border=\"1\" class=\"dataframe\">\n",
              "  <thead>\n",
              "    <tr style=\"text-align: right;\">\n",
              "      <th></th>\n",
              "      <th>github_repo_url</th>\n",
              "      <th>count_contributions</th>\n",
              "      <th>count_commits</th>\n",
              "      <th>count_commit_comments</th>\n",
              "      <th>count_created_issues</th>\n",
              "      <th>count_pull_requests_created</th>\n",
              "      <th>count_pull_requests_reviews</th>\n",
              "      <th>count_comments_on_issues_and_pull_requests</th>\n",
              "    </tr>\n",
              "  </thead>\n",
              "  <tbody>\n",
              "    <tr>\n",
              "      <th>118032</th>\n",
              "      <td>https://github.com/zzzain46/NBU-nCov-killer</td>\n",
              "      <td>4.0</td>\n",
              "      <td>2.75</td>\n",
              "      <td>0.0</td>\n",
              "      <td>1.25</td>\n",
              "      <td>0.0</td>\n",
              "      <td>0.0</td>\n",
              "      <td>0.0</td>\n",
              "    </tr>\n",
              "  </tbody>\n",
              "</table>\n",
              "</div>"
            ],
            "text/plain": [
              "                                    github_repo_url  ...  count_comments_on_issues_and_pull_requests\n",
              "118032  https://github.com/zzzain46/NBU-nCov-killer  ...                                         0.0\n",
              "\n",
              "[1 rows x 8 columns]"
            ]
          },
          "metadata": {
            "tags": []
          },
          "execution_count": 18
        }
      ]
    },
    {
      "cell_type": "code",
      "metadata": {
        "id": "f16h_a2SHVR8",
        "colab_type": "code",
        "colab": {}
      },
      "source": [
        "#rename columns to include avg_ prefix\n",
        "\n",
        "avg_column_names = average_week.columns \n",
        "\n",
        "avg_column_names = [ \"avg_\"+ i if \"count\" in i else i for i in avg_column_names]\n",
        "\n",
        "average_week.columns = avg_column_names\n"
      ],
      "execution_count": 20,
      "outputs": []
    },
    {
      "cell_type": "code",
      "metadata": {
        "id": "av64gMV3JhwF",
        "colab_type": "code",
        "colab": {}
      },
      "source": [
        "# join the two tables together (most recent snapshot and average weekly metrics)\n",
        "\n",
        "df_join = most_recent.merge(average_week, on=\"github_repo_url\",how=\"left\")\n"
      ],
      "execution_count": 22,
      "outputs": []
    },
    {
      "cell_type": "code",
      "metadata": {
        "id": "0Cax2vsHUE7D",
        "colab_type": "code",
        "colab": {}
      },
      "source": [
        "# convert bool since they dropped datatype when merged\n",
        "df_join['has_readme'] = df_join['has_readme'].astype('bool').astype('int')\n",
        "df_join['has_wiki'] = df_join['has_wiki'].astype('bool').astype('int')\n",
        "df_join['has_merged_prs'] = df_join['has_merged_prs'].astype('bool').astype('int')\n",
        "df_join['has_issues'] = df_join['has_issues'].astype('bool').astype('int')\n",
        "df_join['has_contributor_guide'] = df_join['has_contributor_guide'].astype('bool').astype('int')\n",
        "df_join['has_code_of_conduct'] = df_join['has_code_of_conduct'].astype('bool').astype('int')\n",
        "\n",
        "\n",
        "# convert date column to date type vs object\n",
        "\n",
        "df_join['repo_created_day'] = pd.to_datetime(df_join['repo_created_day'])\n",
        "\n",
        "#create new column has topic\n",
        "df_join['has_topic'] = df_join.topics.isna().astype('int')\n",
        "\n",
        "\n"
      ],
      "execution_count": 27,
      "outputs": []
    },
    {
      "cell_type": "code",
      "metadata": {
        "id": "pf0TPKKJ3iAk",
        "colab_type": "code",
        "colab": {
          "base_uri": "https://localhost:8080/",
          "height": 629
        },
        "outputId": "86b6bb36-d1c5-4a24-8885-6cc49bca6d06"
      },
      "source": [
        "df_join.info()"
      ],
      "execution_count": 28,
      "outputs": [
        {
          "output_type": "stream",
          "text": [
            "<class 'pandas.core.frame.DataFrame'>\n",
            "Int64Index: 118035 entries, 0 to 118034\n",
            "Data columns (total 29 columns):\n",
            " #   Column                                          Non-Null Count   Dtype         \n",
            "---  ------                                          --------------   -----         \n",
            " 0   github_repo_url                                 118034 non-null  object        \n",
            " 1   repo_description                                70453 non-null   object        \n",
            " 2   topics                                          9133 non-null    object        \n",
            " 3   owner_repo_name                                 118034 non-null  object        \n",
            " 4   owner_name                                      118025 non-null  object        \n",
            " 5   owner_type                                      118034 non-null  object        \n",
            " 6   organization_bio                                4298 non-null    object        \n",
            " 7   repo_created_day                                118034 non-null  datetime64[ns]\n",
            " 8   primary_language_name                           94415 non-null   object        \n",
            " 9   license_name                                    21028 non-null   object        \n",
            " 10  is_github_pages                                 118034 non-null  object        \n",
            " 11  has_readme                                      118035 non-null  int64         \n",
            " 12  has_wiki                                        118035 non-null  int64         \n",
            " 13  has_merged_prs                                  118035 non-null  int64         \n",
            " 14  has_issues                                      118035 non-null  int64         \n",
            " 15  has_contributor_guide                           118035 non-null  int64         \n",
            " 16  has_code_of_conduct                             118035 non-null  int64         \n",
            " 17  count_of_public_forks                           118034 non-null  float64       \n",
            " 18  count_of_stars                                  118034 non-null  float64       \n",
            " 19  count_of_watchers                               118034 non-null  float64       \n",
            " 20  count_distinct_contributors                     118034 non-null  float64       \n",
            " 21  avg_count_contributions                         118034 non-null  float64       \n",
            " 22  avg_count_commits                               118034 non-null  float64       \n",
            " 23  avg_count_commit_comments                       118034 non-null  float64       \n",
            " 24  avg_count_created_issues                        118034 non-null  float64       \n",
            " 25  avg_count_pull_requests_created                 118034 non-null  float64       \n",
            " 26  avg_count_pull_requests_reviews                 118034 non-null  float64       \n",
            " 27  avg_count_comments_on_issues_and_pull_requests  118034 non-null  float64       \n",
            " 28  has_topic                                       118035 non-null  int64         \n",
            "dtypes: datetime64[ns](1), float64(11), int64(7), object(10)\n",
            "memory usage: 27.0+ MB\n"
          ],
          "name": "stdout"
        }
      ]
    },
    {
      "cell_type": "markdown",
      "metadata": {
        "id": "jIjczRe1MpOQ",
        "colab_type": "text"
      },
      "source": [
        "## EDA\n",
        "\n"
      ]
    },
    {
      "cell_type": "markdown",
      "metadata": {
        "id": "eTB4AuIoXdTR",
        "colab_type": "text"
      },
      "source": [
        "There is a lot of multicollinearity and a majority of relationships are not linear, only one variable has a weight > 0 when using Ridge. Also don't have enough data to predict a continous relationship since the majority of repos have less than 1 star. Might be best doing a z-test."
      ]
    },
    {
      "cell_type": "code",
      "metadata": {
        "id": "no0ngLIQd02Z",
        "colab_type": "code",
        "colab": {}
      },
      "source": [
        "#removing outliers like https://github.com/2019ncovmemory/nCovMemory doesnt exist\n",
        "\n",
        "df_join = df_join[(df_join.count_of_stars < 7000) & (df_join.avg_count_commits < 200)]"
      ],
      "execution_count": 30,
      "outputs": []
    },
    {
      "cell_type": "code",
      "metadata": {
        "id": "nmA3MwonMrRW",
        "colab_type": "code",
        "colab": {
          "base_uri": "https://localhost:8080/",
          "height": 317
        },
        "outputId": "dcdc9abb-a5e8-45dc-bbfa-7f3aa4b17947"
      },
      "source": [
        "df_join.describe()"
      ],
      "execution_count": 47,
      "outputs": [
        {
          "output_type": "execute_result",
          "data": {
            "text/html": [
              "<div>\n",
              "<style scoped>\n",
              "    .dataframe tbody tr th:only-of-type {\n",
              "        vertical-align: middle;\n",
              "    }\n",
              "\n",
              "    .dataframe tbody tr th {\n",
              "        vertical-align: top;\n",
              "    }\n",
              "\n",
              "    .dataframe thead th {\n",
              "        text-align: right;\n",
              "    }\n",
              "</style>\n",
              "<table border=\"1\" class=\"dataframe\">\n",
              "  <thead>\n",
              "    <tr style=\"text-align: right;\">\n",
              "      <th></th>\n",
              "      <th>has_readme</th>\n",
              "      <th>has_wiki</th>\n",
              "      <th>has_merged_prs</th>\n",
              "      <th>has_issues</th>\n",
              "      <th>has_contributor_guide</th>\n",
              "      <th>has_code_of_conduct</th>\n",
              "      <th>count_of_public_forks</th>\n",
              "      <th>count_of_stars</th>\n",
              "      <th>count_of_watchers</th>\n",
              "      <th>count_distinct_contributors</th>\n",
              "      <th>avg_count_contributions</th>\n",
              "      <th>avg_count_commits</th>\n",
              "      <th>avg_count_commit_comments</th>\n",
              "      <th>avg_count_created_issues</th>\n",
              "      <th>avg_count_pull_requests_created</th>\n",
              "      <th>avg_count_pull_requests_reviews</th>\n",
              "      <th>avg_count_comments_on_issues_and_pull_requests</th>\n",
              "      <th>has_topic</th>\n",
              "    </tr>\n",
              "  </thead>\n",
              "  <tbody>\n",
              "    <tr>\n",
              "      <th>count</th>\n",
              "      <td>116762.000000</td>\n",
              "      <td>116762.000000</td>\n",
              "      <td>116762.000000</td>\n",
              "      <td>116762.000000</td>\n",
              "      <td>116762.000000</td>\n",
              "      <td>116762.000000</td>\n",
              "      <td>116762.000000</td>\n",
              "      <td>116762.000000</td>\n",
              "      <td>116762.000000</td>\n",
              "      <td>116762.000000</td>\n",
              "      <td>116762.000000</td>\n",
              "      <td>116762.000000</td>\n",
              "      <td>116762.000000</td>\n",
              "      <td>116762.000000</td>\n",
              "      <td>116762.000000</td>\n",
              "      <td>116762.000000</td>\n",
              "      <td>116762.000000</td>\n",
              "      <td>116762.000000</td>\n",
              "    </tr>\n",
              "    <tr>\n",
              "      <th>mean</th>\n",
              "      <td>0.713477</td>\n",
              "      <td>0.988900</td>\n",
              "      <td>0.087169</td>\n",
              "      <td>0.990716</td>\n",
              "      <td>0.008522</td>\n",
              "      <td>0.005927</td>\n",
              "      <td>0.251280</td>\n",
              "      <td>0.709332</td>\n",
              "      <td>0.703902</td>\n",
              "      <td>1.123019</td>\n",
              "      <td>14.287743</td>\n",
              "      <td>12.797725</td>\n",
              "      <td>0.014932</td>\n",
              "      <td>0.312559</td>\n",
              "      <td>0.531988</td>\n",
              "      <td>0.176018</td>\n",
              "      <td>0.454521</td>\n",
              "      <td>0.924958</td>\n",
              "    </tr>\n",
              "    <tr>\n",
              "      <th>std</th>\n",
              "      <td>0.452139</td>\n",
              "      <td>0.104768</td>\n",
              "      <td>0.282083</td>\n",
              "      <td>0.095905</td>\n",
              "      <td>0.091919</td>\n",
              "      <td>0.076756</td>\n",
              "      <td>4.602303</td>\n",
              "      <td>12.170973</td>\n",
              "      <td>12.134371</td>\n",
              "      <td>1.535669</td>\n",
              "      <td>30.557354</td>\n",
              "      <td>23.372956</td>\n",
              "      <td>0.448510</td>\n",
              "      <td>3.421817</td>\n",
              "      <td>3.271435</td>\n",
              "      <td>2.479057</td>\n",
              "      <td>8.541125</td>\n",
              "      <td>0.263459</td>\n",
              "    </tr>\n",
              "    <tr>\n",
              "      <th>min</th>\n",
              "      <td>0.000000</td>\n",
              "      <td>0.000000</td>\n",
              "      <td>0.000000</td>\n",
              "      <td>0.000000</td>\n",
              "      <td>0.000000</td>\n",
              "      <td>0.000000</td>\n",
              "      <td>0.000000</td>\n",
              "      <td>0.000000</td>\n",
              "      <td>0.000000</td>\n",
              "      <td>0.000000</td>\n",
              "      <td>0.000000</td>\n",
              "      <td>0.000000</td>\n",
              "      <td>0.000000</td>\n",
              "      <td>0.000000</td>\n",
              "      <td>0.000000</td>\n",
              "      <td>0.000000</td>\n",
              "      <td>0.000000</td>\n",
              "      <td>0.000000</td>\n",
              "    </tr>\n",
              "    <tr>\n",
              "      <th>25%</th>\n",
              "      <td>0.000000</td>\n",
              "      <td>1.000000</td>\n",
              "      <td>0.000000</td>\n",
              "      <td>1.000000</td>\n",
              "      <td>0.000000</td>\n",
              "      <td>0.000000</td>\n",
              "      <td>0.000000</td>\n",
              "      <td>0.000000</td>\n",
              "      <td>0.000000</td>\n",
              "      <td>1.000000</td>\n",
              "      <td>2.000000</td>\n",
              "      <td>2.000000</td>\n",
              "      <td>0.000000</td>\n",
              "      <td>0.000000</td>\n",
              "      <td>0.000000</td>\n",
              "      <td>0.000000</td>\n",
              "      <td>0.000000</td>\n",
              "      <td>1.000000</td>\n",
              "    </tr>\n",
              "    <tr>\n",
              "      <th>50%</th>\n",
              "      <td>1.000000</td>\n",
              "      <td>1.000000</td>\n",
              "      <td>0.000000</td>\n",
              "      <td>1.000000</td>\n",
              "      <td>0.000000</td>\n",
              "      <td>0.000000</td>\n",
              "      <td>0.000000</td>\n",
              "      <td>0.000000</td>\n",
              "      <td>0.000000</td>\n",
              "      <td>1.000000</td>\n",
              "      <td>4.666667</td>\n",
              "      <td>4.200000</td>\n",
              "      <td>0.000000</td>\n",
              "      <td>0.000000</td>\n",
              "      <td>0.000000</td>\n",
              "      <td>0.000000</td>\n",
              "      <td>0.000000</td>\n",
              "      <td>1.000000</td>\n",
              "    </tr>\n",
              "    <tr>\n",
              "      <th>75%</th>\n",
              "      <td>1.000000</td>\n",
              "      <td>1.000000</td>\n",
              "      <td>0.000000</td>\n",
              "      <td>1.000000</td>\n",
              "      <td>0.000000</td>\n",
              "      <td>0.000000</td>\n",
              "      <td>0.000000</td>\n",
              "      <td>0.000000</td>\n",
              "      <td>0.000000</td>\n",
              "      <td>1.000000</td>\n",
              "      <td>13.000000</td>\n",
              "      <td>12.619048</td>\n",
              "      <td>0.000000</td>\n",
              "      <td>0.000000</td>\n",
              "      <td>0.000000</td>\n",
              "      <td>0.000000</td>\n",
              "      <td>0.000000</td>\n",
              "      <td>1.000000</td>\n",
              "    </tr>\n",
              "    <tr>\n",
              "      <th>max</th>\n",
              "      <td>1.000000</td>\n",
              "      <td>1.000000</td>\n",
              "      <td>1.000000</td>\n",
              "      <td>1.000000</td>\n",
              "      <td>1.000000</td>\n",
              "      <td>1.000000</td>\n",
              "      <td>1109.000000</td>\n",
              "      <td>1690.000000</td>\n",
              "      <td>1689.000000</td>\n",
              "      <td>176.000000</td>\n",
              "      <td>2071.285714</td>\n",
              "      <td>199.500000</td>\n",
              "      <td>72.714286</td>\n",
              "      <td>452.470588</td>\n",
              "      <td>138.260870</td>\n",
              "      <td>241.166667</td>\n",
              "      <td>1620.000000</td>\n",
              "      <td>1.000000</td>\n",
              "    </tr>\n",
              "  </tbody>\n",
              "</table>\n",
              "</div>"
            ],
            "text/plain": [
              "          has_readme  ...      has_topic\n",
              "count  116762.000000  ...  116762.000000\n",
              "mean        0.713477  ...       0.924958\n",
              "std         0.452139  ...       0.263459\n",
              "min         0.000000  ...       0.000000\n",
              "25%         0.000000  ...       1.000000\n",
              "50%         1.000000  ...       1.000000\n",
              "75%         1.000000  ...       1.000000\n",
              "max         1.000000  ...       1.000000\n",
              "\n",
              "[8 rows x 18 columns]"
            ]
          },
          "metadata": {
            "tags": []
          },
          "execution_count": 47
        }
      ]
    },
    {
      "cell_type": "code",
      "metadata": {
        "id": "Uj_iJkD5Tf0v",
        "colab_type": "code",
        "colab": {
          "base_uri": "https://localhost:8080/",
          "height": 856
        },
        "outputId": "a9717262-da22-4c1f-adaf-b4f94ac07f96"
      },
      "source": [
        "# correlation matrix\n",
        "import seaborn as sns\n",
        "import matplotlib.pyplot as plt\n",
        "import numpy as np\n",
        "\n",
        "corr = df_join.corr()\n",
        "\n",
        "# Generate a mask for the upper triangle\n",
        "mask = np.triu(np.ones_like(corr, dtype=bool))\n",
        "\n",
        "# Set up the matplotlib figure\n",
        "f, ax = plt.subplots(figsize=(11, 9))\n",
        "\n",
        "# Generate a custom diverging colormap\n",
        "cmap = sns.diverging_palette(230, 20, as_cmap=True)\n",
        "\n",
        "# Draw the heatmap with the mask and correct aspect ratio\n",
        "sns.heatmap(corr, mask=mask, cmap=cmap, vmax=.3, center=0,\n",
        "            square=True, linewidths=.5, cbar_kws={\"shrink\": .5})\n"
      ],
      "execution_count": 31,
      "outputs": [
        {
          "output_type": "stream",
          "text": [
            "/usr/local/lib/python3.6/dist-packages/statsmodels/tools/_testing.py:19: FutureWarning: pandas.util.testing is deprecated. Use the functions in the public API at pandas.testing instead.\n",
            "  import pandas.util.testing as tm\n"
          ],
          "name": "stderr"
        },
        {
          "output_type": "execute_result",
          "data": {
            "text/plain": [
              "<matplotlib.axes._subplots.AxesSubplot at 0x7f3a27e2d080>"
            ]
          },
          "metadata": {
            "tags": []
          },
          "execution_count": 31
        },
        {
          "output_type": "display_data",
          "data": {
            "image/png": "[encoded data removed]",
            "text/plain": [
              "<Figure size 792x648 with 2 Axes>"
            ]
          },
          "metadata": {
            "tags": [],
            "needs_background": "light"
          }
        }
      ]
    },
    {
      "cell_type": "code",
      "metadata": {
        "id": "eKtdxmW7dgge",
        "colab_type": "code",
        "colab": {
          "base_uri": "https://localhost:8080/",
          "height": 297
        },
        "outputId": "44bba4e0-ddaf-42c2-dadc-875111399fb9"
      },
      "source": [
        "df_join[df_join.count_of_stars < 200 ].plot.scatter(x='avg_count_commits',y='count_of_stars')"
      ],
      "execution_count": 36,
      "outputs": [
        {
          "output_type": "execute_result",
          "data": {
            "text/plain": [
              "<matplotlib.axes._subplots.AxesSubplot at 0x7f3a223e4f98>"
            ]
          },
          "metadata": {
            "tags": []
          },
          "execution_count": 36
        },
        {
          "output_type": "display_data",
          "data": {
            "image/png": "[encoded data removed]",
            "text/plain": [
              "<Figure size 432x288 with 1 Axes>"
            ]
          },
          "metadata": {
            "tags": [],
            "needs_background": "light"
          }
        }
      ]
    },
    {
      "cell_type": "code",
      "metadata": {
        "id": "nmyQs_8Yex3n",
        "colab_type": "code",
        "colab": {
          "base_uri": "https://localhost:8080/",
          "height": 297
        },
        "outputId": "23dc07c8-4565-4592-83e5-68cc2620a47e"
      },
      "source": [
        "df_join[df_join.count_of_stars < 200 ].plot.scatter(x='count_of_public_forks',y='count_of_stars')"
      ],
      "execution_count": 40,
      "outputs": [
        {
          "output_type": "execute_result",
          "data": {
            "text/plain": [
              "<matplotlib.axes._subplots.AxesSubplot at 0x7f3a2220bc50>"
            ]
          },
          "metadata": {
            "tags": []
          },
          "execution_count": 40
        },
        {
          "output_type": "display_data",
          "data": {
            "image/png": "[encoded data removed]",
            "text/plain": [
              "<Figure size 432x288 with 1 Axes>"
            ]
          },
          "metadata": {
            "tags": [],
            "needs_background": "light"
          }
        }
      ]
    },
    {
      "cell_type": "code",
      "metadata": {
        "id": "UWkD_M_Ue-ZY",
        "colab_type": "code",
        "colab": {
          "base_uri": "https://localhost:8080/",
          "height": 297
        },
        "outputId": "e5a827d3-00be-49ec-caed-ec118bdd91ce"
      },
      "source": [
        "df_join[df_join.count_of_stars < 200 ].plot.scatter(x='count_of_watchers',y='count_of_stars')"
      ],
      "execution_count": 41,
      "outputs": [
        {
          "output_type": "execute_result",
          "data": {
            "text/plain": [
              "<matplotlib.axes._subplots.AxesSubplot at 0x7f3a2216ecf8>"
            ]
          },
          "metadata": {
            "tags": []
          },
          "execution_count": 41
        },
        {
          "output_type": "display_data",
          "data": {
            "image/png": "[encoded data removed]",
            "text/plain": [
              "<Figure size 432x288 with 1 Axes>"
            ]
          },
          "metadata": {
            "tags": [],
            "needs_background": "light"
          }
        }
      ]
    },
    {
      "cell_type": "code",
      "metadata": {
        "id": "6WKctNMTfems",
        "colab_type": "code",
        "colab": {
          "base_uri": "https://localhost:8080/",
          "height": 297
        },
        "outputId": "2fa56f64-39a3-461c-eef9-3535dbe1dbc4"
      },
      "source": [
        "df_join[df_join.count_of_stars < 200 ].plot.scatter(x='count_distinct_contributors',y='count_of_stars')"
      ],
      "execution_count": 43,
      "outputs": [
        {
          "output_type": "execute_result",
          "data": {
            "text/plain": [
              "<matplotlib.axes._subplots.AxesSubplot at 0x7f3a220d0f98>"
            ]
          },
          "metadata": {
            "tags": []
          },
          "execution_count": 43
        },
        {
          "output_type": "display_data",
          "data": {
            "image/png": "[encoded data removed]",
            "text/plain": [
              "<Figure size 432x288 with 1 Axes>"
            ]
          },
          "metadata": {
            "tags": [],
            "needs_background": "light"
          }
        }
      ]
    },
    {
      "cell_type": "markdown",
      "metadata": {
        "id": "Ujjp8dZVg_5O",
        "colab_type": "text"
      },
      "source": [
        "## Regression on Stars\n",
        "\n",
        "There is not a linear relationship between Stars and other variables except watchers. Since there is a lot of multicollinearity (correlation between many variables), it would be best to apply regularization techqniues such as Ridge. After doing this, it seems only one feature has an effect as we increase the penalty on lambda."
      ]
    },
    {
      "cell_type": "code",
      "metadata": {
        "id": "alSNLxx4iLON",
        "colab_type": "code",
        "colab": {
          "base_uri": "https://localhost:8080/",
          "height": 153
        },
        "outputId": "c440de57-6ba8-455d-e2f4-60a2d96363eb"
      },
      "source": [
        "X = df_join.iloc[:,12:]\n",
        "y = df_join.count_of_stars\n",
        "X.drop(['count_of_stars'],axis=1,inplace=True)\n",
        "\n",
        "X.columns"
      ],
      "execution_count": 44,
      "outputs": [
        {
          "output_type": "execute_result",
          "data": {
            "text/plain": [
              "Index(['has_wiki', 'has_merged_prs', 'has_issues', 'has_contributor_guide',\n",
              "       'has_code_of_conduct', 'count_of_public_forks', 'count_of_watchers',\n",
              "       'count_distinct_contributors', 'avg_count_contributions',\n",
              "       'avg_count_commits', 'avg_count_commit_comments',\n",
              "       'avg_count_created_issues', 'avg_count_pull_requests_created',\n",
              "       'avg_count_pull_requests_reviews',\n",
              "       'avg_count_comments_on_issues_and_pull_requests', 'has_topic'],\n",
              "      dtype='object')"
            ]
          },
          "metadata": {
            "tags": []
          },
          "execution_count": 44
        }
      ]
    },
    {
      "cell_type": "code",
      "metadata": {
        "id": "yf9_L58Mg_JL",
        "colab_type": "code",
        "colab": {}
      },
      "source": [
        "from sklearn import linear_model\n",
        "\n",
        "\n",
        "# #############################################################################\n",
        "# Compute paths\n",
        "\n",
        "alphas = [0,.001,.10,.1,1,10]\n",
        "\n",
        "coefs = []\n",
        "for a in alphas:\n",
        "    ridge = linear_model.Ridge(alpha=a, fit_intercept=False)\n",
        "    ridge.fit(X, y)\n",
        "    coefs.append(ridge.coef_)\n",
        "\n",
        "# #############################################################################\n",
        "# Display results\n",
        "\n",
        "ax = plt.gca()\n",
        "\n",
        "ax.plot(alphas, coefs)\n",
        "ax.set_xscale('log')\n",
        "ax.set_xlim(ax.get_xlim()[::-1])  # reverse axis\n",
        "plt.xlabel('alpha')\n",
        "plt.ylabel('weights')\n",
        "plt.title('Ridge coefficients as a function of the regularization')\n",
        "plt.axis('tight')\n",
        "plt.show()\n",
        "\n"
      ],
      "execution_count": null,
      "outputs": []
    },
    {
      "cell_type": "markdown",
      "metadata": {
        "id": "ysqiw7Nk2D-R",
        "colab_type": "text"
      },
      "source": [
        "## 2 sided Z test\n",
        "\n",
        "\n",
        "\n",
        "$ z = \\frac{\\overline{x} - \\mu}{\\frac{s}{\\sqrt{n}}}$\n",
        "\n",
        "$H_o$: *There is no relationship between documentation and stars*\n",
        "\n",
        "$H_a$: *There is a relationship between documentation and stars*\n",
        "\n",
        "Note: I am not including ReadMe's because most repos are initialized with a ReadMe but doesnt mean it has been modified. Also Stars and Public Forks are highly correlated so just going with Stars.\n",
        "\n",
        "Having a contributor guide or a wiki the Z score was a -1.87 meaning we can't reject the null hypothesis and there is no relationship between documentation and stars.\n",
        "\n",
        "However when I looked having both documentation types, the Z score was a 5.2 which is greather than 1.96 meaning we can reject our null hypothesis and accept there is a significant relationship between documentation and stars only if there is a contributor guide since the Z score of the contributor guide was higher than the Wiki's.\n",
        "\n"
      ]
    },
    {
      "cell_type": "code",
      "metadata": {
        "id": "6tyBR7hG1hgw",
        "colab_type": "code",
        "colab": {
          "base_uri": "https://localhost:8080/",
          "height": 170
        },
        "outputId": "60d39a9a-ea92-41d7-b781-fcf4e3f5fe6f"
      },
      "source": [
        "# Documentation in terms of contributor guide OR Wiki\n",
        "df_join['has_documentation'] = np.where((df_join.has_contributor_guide == 1) | (df_join.has_wiki == 1),1,0)\n",
        "df_join[(df_join.has_documentation == 1)]['count_of_stars'].describe()"
      ],
      "execution_count": 58,
      "outputs": [
        {
          "output_type": "execute_result",
          "data": {
            "text/plain": [
              "count    115518.000000\n",
              "mean          0.659231\n",
              "std          10.735144\n",
              "min           0.000000\n",
              "25%           0.000000\n",
              "50%           0.000000\n",
              "75%           0.000000\n",
              "max        1690.000000\n",
              "Name: count_of_stars, dtype: float64"
            ]
          },
          "metadata": {
            "tags": []
          },
          "execution_count": 58
        }
      ]
    },
    {
      "cell_type": "code",
      "metadata": {
        "id": "2YhXtklDrPir",
        "colab_type": "code",
        "colab": {
          "base_uri": "https://localhost:8080/",
          "height": 34
        },
        "outputId": "07db510b-0e94-453f-e923-41b57e179e3e"
      },
      "source": [
        "#zscore\n",
        "import math\n",
        "(.65 - .709) / ((10.7/math.sqrt(115518)))"
      ],
      "execution_count": 59,
      "outputs": [
        {
          "output_type": "execute_result",
          "data": {
            "text/plain": [
              "-1.8741013113999088"
            ]
          },
          "metadata": {
            "tags": []
          },
          "execution_count": 59
        }
      ]
    },
    {
      "cell_type": "code",
      "metadata": {
        "id": "cPChiFvrrDtU",
        "colab_type": "code",
        "colab": {
          "base_uri": "https://localhost:8080/",
          "height": 170
        },
        "outputId": "2d52aacd-ae29-4ae4-86b1-b61650567fa2"
      },
      "source": [
        "# Documentation in terms of having BOTH contributing guide AND Wiki\n",
        "df_join['has_documentation'] = np.where((df_join.has_contributor_guide == 1) & (df_join.has_wiki == 1),1,0)\n",
        "df_join[(df_join.has_documentation == 1)]['count_of_stars'].describe()"
      ],
      "execution_count": 56,
      "outputs": [
        {
          "output_type": "execute_result",
          "data": {
            "text/plain": [
              "count    943.000000\n",
              "mean       3.539767\n",
              "std       16.700632\n",
              "min        0.000000\n",
              "25%        0.000000\n",
              "50%        0.000000\n",
              "75%        1.000000\n",
              "max      326.000000\n",
              "Name: count_of_stars, dtype: float64"
            ]
          },
          "metadata": {
            "tags": []
          },
          "execution_count": 56
        }
      ]
    },
    {
      "cell_type": "code",
      "metadata": {
        "id": "-qpGZbn1BqPf",
        "colab_type": "code",
        "colab": {
          "base_uri": "https://localhost:8080/",
          "height": 34
        },
        "outputId": "eade4bac-e083-407c-9167-c96bd8d12227"
      },
      "source": [
        "#z score\n",
        "# our average stars for this entire data is .709\n",
        "\n",
        "(3.53 - .709) / ((16/math.sqrt(943)))"
      ],
      "execution_count": 57,
      "outputs": [
        {
          "output_type": "execute_result",
          "data": {
            "text/plain": [
              "5.414258036872989"
            ]
          },
          "metadata": {
            "tags": []
          },
          "execution_count": 57
        }
      ]
    },
    {
      "cell_type": "code",
      "metadata": {
        "id": "l27pxdgDr1mh",
        "colab_type": "code",
        "colab": {
          "base_uri": "https://localhost:8080/",
          "height": 170
        },
        "outputId": "f6bab3cb-1510-43d5-9235-0df0a9a503fd"
      },
      "source": [
        "# Documentation in terms of at least contributing guide\n",
        "df_join['has_documentation'] = np.where((df_join.has_contributor_guide == 1),1,0)\n",
        "df_join[(df_join.has_documentation == 1)]['count_of_stars'].describe()"
      ],
      "execution_count": 60,
      "outputs": [
        {
          "output_type": "execute_result",
          "data": {
            "text/plain": [
              "count     995.000000\n",
              "mean        5.335678\n",
              "std        51.713807\n",
              "min         0.000000\n",
              "25%         0.000000\n",
              "50%         0.000000\n",
              "75%         1.000000\n",
              "max      1544.000000\n",
              "Name: count_of_stars, dtype: float64"
            ]
          },
          "metadata": {
            "tags": []
          },
          "execution_count": 60
        }
      ]
    },
    {
      "cell_type": "code",
      "metadata": {
        "id": "xkV8nCWsr-CC",
        "colab_type": "code",
        "colab": {
          "base_uri": "https://localhost:8080/",
          "height": 170
        },
        "outputId": "c9b39a49-41b4-4226-bf0c-c8cadcb1c1cb"
      },
      "source": [
        "# Documentation in terms of at least wiki\n",
        "df_join['has_documentation'] = np.where((df_join.has_wiki == 1),1,0)\n",
        "df_join[(df_join.has_documentation == 1)]['count_of_stars'].describe()"
      ],
      "execution_count": 61,
      "outputs": [
        {
          "output_type": "execute_result",
          "data": {
            "text/plain": [
              "count    115466.000000\n",
              "mean          0.642458\n",
              "std           9.717375\n",
              "min           0.000000\n",
              "25%           0.000000\n",
              "50%           0.000000\n",
              "75%           0.000000\n",
              "max        1690.000000\n",
              "Name: count_of_stars, dtype: float64"
            ]
          },
          "metadata": {
            "tags": []
          },
          "execution_count": 61
        }
      ]
    }
  ]
}